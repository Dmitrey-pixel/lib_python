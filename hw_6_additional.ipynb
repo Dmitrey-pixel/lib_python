{
 "cells": [
  {
   "cell_type": "markdown",
   "id": "6b69ae05",
   "metadata": {
    "id": "6b69ae05"
   },
   "source": [
    "### *Дополнительные задания:"
   ]
  },
  {
   "cell_type": "markdown",
   "id": "2217a9e3",
   "metadata": {
    "id": "2217a9e3"
   },
   "source": [
    "#### 1). \n",
    "Загрузите датасет Wine из встроенных датасетов sklearn.datasets с помощью функции load_wine в\n",
    "переменную data."
   ]
  },
  {
   "cell_type": "code",
   "execution_count": 1,
   "id": "9afb2e1f",
   "metadata": {
    "executionInfo": {
     "elapsed": 381,
     "status": "ok",
     "timestamp": 1636362505408,
     "user": {
      "displayName": "Дмитрий Данилов",
      "photoUrl": "https://lh3.googleusercontent.com/a-/AOh14GjrLTA-dX7eMrvDRjOtp6QgQL8bwrVhcFJHjwvv=s64",
      "userId": "16365483265676392275"
     },
     "user_tz": -300
    },
    "id": "9afb2e1f"
   },
   "outputs": [],
   "source": [
    "import warnings\n",
    "\n",
    "warnings.filterwarnings('ignore')"
   ]
  },
  {
   "cell_type": "code",
   "execution_count": 2,
   "id": "2dfaeb8f",
   "metadata": {
    "executionInfo": {
     "elapsed": 3,
     "status": "ok",
     "timestamp": 1636362505666,
     "user": {
      "displayName": "Дмитрий Данилов",
      "photoUrl": "https://lh3.googleusercontent.com/a-/AOh14GjrLTA-dX7eMrvDRjOtp6QgQL8bwrVhcFJHjwvv=s64",
      "userId": "16365483265676392275"
     },
     "user_tz": -300
    },
    "id": "2dfaeb8f"
   },
   "outputs": [],
   "source": [
    "import numpy as np\n",
    "import pandas as pd"
   ]
  },
  {
   "cell_type": "code",
   "execution_count": 3,
   "id": "T_FYZ9Q8dEEz",
   "metadata": {
    "executionInfo": {
     "elapsed": 264,
     "status": "ok",
     "timestamp": 1636362505928,
     "user": {
      "displayName": "Дмитрий Данилов",
      "photoUrl": "https://lh3.googleusercontent.com/a-/AOh14GjrLTA-dX7eMrvDRjOtp6QgQL8bwrVhcFJHjwvv=s64",
      "userId": "16365483265676392275"
     },
     "user_tz": -300
    },
    "id": "T_FYZ9Q8dEEz"
   },
   "outputs": [],
   "source": [
    "import matplotlib\n",
    "import matplotlib.pyplot as plt\n",
    "import seaborn as sns\n",
    "%matplotlib inline"
   ]
  },
  {
   "cell_type": "code",
   "execution_count": 4,
   "id": "c75707a5",
   "metadata": {
    "executionInfo": {
     "elapsed": 517,
     "status": "ok",
     "timestamp": 1636362506444,
     "user": {
      "displayName": "Дмитрий Данилов",
      "photoUrl": "https://lh3.googleusercontent.com/a-/AOh14GjrLTA-dX7eMrvDRjOtp6QgQL8bwrVhcFJHjwvv=s64",
      "userId": "16365483265676392275"
     },
     "user_tz": -300
    },
    "id": "c75707a5"
   },
   "outputs": [],
   "source": [
    "from sklearn.datasets import load_wine"
   ]
  },
  {
   "cell_type": "code",
   "execution_count": 5,
   "id": "e2c293c8",
   "metadata": {
    "executionInfo": {
     "elapsed": 27,
     "status": "ok",
     "timestamp": 1636362506444,
     "user": {
      "displayName": "Дмитрий Данилов",
      "photoUrl": "https://lh3.googleusercontent.com/a-/AOh14GjrLTA-dX7eMrvDRjOtp6QgQL8bwrVhcFJHjwvv=s64",
      "userId": "16365483265676392275"
     },
     "user_tz": -300
    },
    "id": "e2c293c8"
   },
   "outputs": [],
   "source": [
    "data = load_wine()"
   ]
  },
  {
   "cell_type": "markdown",
   "id": "8e38dc03",
   "metadata": {
    "id": "8e38dc03"
   },
   "source": [
    "#### 2).\n",
    "Полученный датасет не является датафреймом. Это структура данных, имеющая ключи\n",
    "аналогично словарю. Просмотрите тип данных этой структуры данных и создайте список data_keys,\n",
    "содержащий ее ключи."
   ]
  },
  {
   "cell_type": "code",
   "execution_count": 6,
   "id": "ec73094d",
   "metadata": {
    "colab": {
     "base_uri": "https://localhost:8080/"
    },
    "executionInfo": {
     "elapsed": 27,
     "status": "ok",
     "timestamp": 1636362506445,
     "user": {
      "displayName": "Дмитрий Данилов",
      "photoUrl": "https://lh3.googleusercontent.com/a-/AOh14GjrLTA-dX7eMrvDRjOtp6QgQL8bwrVhcFJHjwvv=s64",
      "userId": "16365483265676392275"
     },
     "user_tz": -300
    },
    "id": "ec73094d",
    "outputId": "e7952c4c-5ab1-4be8-b8d7-a5a26c3b875b"
   },
   "outputs": [
    {
     "data": {
      "text/plain": [
       "sklearn.utils.Bunch"
      ]
     },
     "execution_count": 6,
     "metadata": {},
     "output_type": "execute_result"
    }
   ],
   "source": [
    "type(data)"
   ]
  },
  {
   "cell_type": "code",
   "execution_count": 7,
   "id": "4d4332de",
   "metadata": {
    "colab": {
     "base_uri": "https://localhost:8080/"
    },
    "executionInfo": {
     "elapsed": 25,
     "status": "ok",
     "timestamp": 1636362506445,
     "user": {
      "displayName": "Дмитрий Данилов",
      "photoUrl": "https://lh3.googleusercontent.com/a-/AOh14GjrLTA-dX7eMrvDRjOtp6QgQL8bwrVhcFJHjwvv=s64",
      "userId": "16365483265676392275"
     },
     "user_tz": -300
    },
    "id": "4d4332de",
    "outputId": "89dd403f-7ebc-4490-c0a9-b83b92dc1152"
   },
   "outputs": [
    {
     "data": {
      "text/plain": [
       "dict_keys(['data', 'target', 'target_names', 'DESCR', 'feature_names'])"
      ]
     },
     "execution_count": 7,
     "metadata": {},
     "output_type": "execute_result"
    }
   ],
   "source": [
    "data_keys = data.keys()\n",
    "data_keys"
   ]
  },
  {
   "cell_type": "markdown",
   "id": "087be18f",
   "metadata": {
    "id": "087be18f"
   },
   "source": [
    "#### 3). \n",
    "Просмотрите данные, описание и названия признаков в датасете. Описание нужно вывести в виде\n",
    "привычного, аккуратно оформленного текста, без обозначений переноса строки, но с самими\n",
    "переносами и т.д."
   ]
  },
  {
   "cell_type": "code",
   "execution_count": 8,
   "id": "ceb7f9f5",
   "metadata": {
    "colab": {
     "base_uri": "https://localhost:8080/"
    },
    "executionInfo": {
     "elapsed": 25,
     "status": "ok",
     "timestamp": 1636362506446,
     "user": {
      "displayName": "Дмитрий Данилов",
      "photoUrl": "https://lh3.googleusercontent.com/a-/AOh14GjrLTA-dX7eMrvDRjOtp6QgQL8bwrVhcFJHjwvv=s64",
      "userId": "16365483265676392275"
     },
     "user_tz": -300
    },
    "id": "ceb7f9f5",
    "outputId": "93752b4c-ad62-4e6d-8072-b5b4ee26f2a0",
    "scrolled": true
   },
   "outputs": [
    {
     "name": "stdout",
     "output_type": "stream",
     "text": [
      ".. _wine_dataset:\n",
      "\n",
      "Wine recognition dataset\n",
      "------------------------\n",
      "\n",
      "**Data Set Characteristics:**\n",
      "\n",
      "    :Number of Instances: 178 (50 in each of three classes)\n",
      "    :Number of Attributes: 13 numeric, predictive attributes and the class\n",
      "    :Attribute Information:\n",
      " \t\t- Alcohol\n",
      " \t\t- Malic acid\n",
      " \t\t- Ash\n",
      "\t\t- Alcalinity of ash  \n",
      " \t\t- Magnesium\n",
      "\t\t- Total phenols\n",
      " \t\t- Flavanoids\n",
      " \t\t- Nonflavanoid phenols\n",
      " \t\t- Proanthocyanins\n",
      "\t\t- Color intensity\n",
      " \t\t- Hue\n",
      " \t\t- OD280/OD315 of diluted wines\n",
      " \t\t- Proline\n",
      "\n",
      "    - class:\n",
      "            - class_0\n",
      "            - class_1\n",
      "            - class_2\n",
      "\t\t\n",
      "    :Summary Statistics:\n",
      "    \n",
      "    ============================= ==== ===== ======= =====\n",
      "                                   Min   Max   Mean     SD\n",
      "    ============================= ==== ===== ======= =====\n",
      "    Alcohol:                      11.0  14.8    13.0   0.8\n",
      "    Malic Acid:                   0.74  5.80    2.34  1.12\n",
      "    Ash:                          1.36  3.23    2.36  0.27\n",
      "    Alcalinity of Ash:            10.6  30.0    19.5   3.3\n",
      "    Magnesium:                    70.0 162.0    99.7  14.3\n",
      "    Total Phenols:                0.98  3.88    2.29  0.63\n",
      "    Flavanoids:                   0.34  5.08    2.03  1.00\n",
      "    Nonflavanoid Phenols:         0.13  0.66    0.36  0.12\n",
      "    Proanthocyanins:              0.41  3.58    1.59  0.57\n",
      "    Colour Intensity:              1.3  13.0     5.1   2.3\n",
      "    Hue:                          0.48  1.71    0.96  0.23\n",
      "    OD280/OD315 of diluted wines: 1.27  4.00    2.61  0.71\n",
      "    Proline:                       278  1680     746   315\n",
      "    ============================= ==== ===== ======= =====\n",
      "\n",
      "    :Missing Attribute Values: None\n",
      "    :Class Distribution: class_0 (59), class_1 (71), class_2 (48)\n",
      "    :Creator: R.A. Fisher\n",
      "    :Donor: Michael Marshall (MARSHALL%PLU@io.arc.nasa.gov)\n",
      "    :Date: July, 1988\n",
      "\n",
      "This is a copy of UCI ML Wine recognition datasets.\n",
      "https://archive.ics.uci.edu/ml/machine-learning-databases/wine/wine.data\n",
      "\n",
      "The data is the results of a chemical analysis of wines grown in the same\n",
      "region in Italy by three different cultivators. There are thirteen different\n",
      "measurements taken for different constituents found in the three types of\n",
      "wine.\n",
      "\n",
      "Original Owners: \n",
      "\n",
      "Forina, M. et al, PARVUS - \n",
      "An Extendible Package for Data Exploration, Classification and Correlation. \n",
      "Institute of Pharmaceutical and Food Analysis and Technologies,\n",
      "Via Brigata Salerno, 16147 Genoa, Italy.\n",
      "\n",
      "Citation:\n",
      "\n",
      "Lichman, M. (2013). UCI Machine Learning Repository\n",
      "[https://archive.ics.uci.edu/ml]. Irvine, CA: University of California,\n",
      "School of Information and Computer Science. \n",
      "\n",
      ".. topic:: References\n",
      "\n",
      "  (1) S. Aeberhard, D. Coomans and O. de Vel, \n",
      "  Comparison of Classifiers in High Dimensional Settings, \n",
      "  Tech. Rep. no. 92-02, (1992), Dept. of Computer Science and Dept. of  \n",
      "  Mathematics and Statistics, James Cook University of North Queensland. \n",
      "  (Also submitted to Technometrics). \n",
      "\n",
      "  The data was used with many others for comparing various \n",
      "  classifiers. The classes are separable, though only RDA \n",
      "  has achieved 100% correct classification. \n",
      "  (RDA : 100%, QDA 99.4%, LDA 98.9%, 1NN 96.1% (z-transformed data)) \n",
      "  (All results using the leave-one-out technique) \n",
      "\n",
      "  (2) S. Aeberhard, D. Coomans and O. de Vel, \n",
      "  \"THE CLASSIFICATION PERFORMANCE OF RDA\" \n",
      "  Tech. Rep. no. 92-01, (1992), Dept. of Computer Science and Dept. of \n",
      "  Mathematics and Statistics, James Cook University of North Queensland. \n",
      "  (Also submitted to Journal of Chemometrics).\n",
      "\n"
     ]
    }
   ],
   "source": [
    "print(data[\"DESCR\"])"
   ]
  },
  {
   "cell_type": "markdown",
   "id": "05085e78",
   "metadata": {
    "id": "05085e78"
   },
   "source": [
    "#### 4). \n",
    "Сколько классов содержит целевая переменная датасета? Выведите названия классов."
   ]
  },
  {
   "cell_type": "code",
   "execution_count": 9,
   "id": "72da1e2c",
   "metadata": {
    "colab": {
     "base_uri": "https://localhost:8080/"
    },
    "executionInfo": {
     "elapsed": 22,
     "status": "ok",
     "timestamp": 1636362506446,
     "user": {
      "displayName": "Дмитрий Данилов",
      "photoUrl": "https://lh3.googleusercontent.com/a-/AOh14GjrLTA-dX7eMrvDRjOtp6QgQL8bwrVhcFJHjwvv=s64",
      "userId": "16365483265676392275"
     },
     "user_tz": -300
    },
    "id": "72da1e2c",
    "outputId": "fab033a8-0256-4ce2-f20f-610d9a864696"
   },
   "outputs": [
    {
     "data": {
      "text/plain": [
       "3"
      ]
     },
     "execution_count": 9,
     "metadata": {},
     "output_type": "execute_result"
    }
   ],
   "source": [
    "target_names = data[\"target_names\"]\n",
    "target_names.size"
   ]
  },
  {
   "cell_type": "code",
   "execution_count": 10,
   "id": "faa2db67",
   "metadata": {
    "colab": {
     "base_uri": "https://localhost:8080/"
    },
    "executionInfo": {
     "elapsed": 20,
     "status": "ok",
     "timestamp": 1636362506447,
     "user": {
      "displayName": "Дмитрий Данилов",
      "photoUrl": "https://lh3.googleusercontent.com/a-/AOh14GjrLTA-dX7eMrvDRjOtp6QgQL8bwrVhcFJHjwvv=s64",
      "userId": "16365483265676392275"
     },
     "user_tz": -300
    },
    "id": "faa2db67",
    "outputId": "f90f8ea0-22c6-4eaf-97dd-a8c1900d2cc2"
   },
   "outputs": [
    {
     "data": {
      "text/plain": [
       "array(['class_0', 'class_1', 'class_2'], dtype='<U7')"
      ]
     },
     "execution_count": 10,
     "metadata": {},
     "output_type": "execute_result"
    }
   ],
   "source": [
    "target_names"
   ]
  },
  {
   "cell_type": "markdown",
   "id": "708471d2",
   "metadata": {
    "id": "708471d2"
   },
   "source": [
    "#### 5). \n",
    "На основе данных датасета (они содержатся в двумерном массиве Numpy) и названий признаков\n",
    "создайте датафрейм под названием X."
   ]
  },
  {
   "cell_type": "code",
   "execution_count": 11,
   "id": "38ca9e1e",
   "metadata": {
    "executionInfo": {
     "elapsed": 17,
     "status": "ok",
     "timestamp": 1636362506447,
     "user": {
      "displayName": "Дмитрий Данилов",
      "photoUrl": "https://lh3.googleusercontent.com/a-/AOh14GjrLTA-dX7eMrvDRjOtp6QgQL8bwrVhcFJHjwvv=s64",
      "userId": "16365483265676392275"
     },
     "user_tz": -300
    },
    "id": "38ca9e1e"
   },
   "outputs": [],
   "source": [
    "feature_names = data[\"feature_names\"]"
   ]
  },
  {
   "cell_type": "code",
   "execution_count": 12,
   "id": "f392d64f",
   "metadata": {
    "executionInfo": {
     "elapsed": 17,
     "status": "ok",
     "timestamp": 1636362506448,
     "user": {
      "displayName": "Дмитрий Данилов",
      "photoUrl": "https://lh3.googleusercontent.com/a-/AOh14GjrLTA-dX7eMrvDRjOtp6QgQL8bwrVhcFJHjwvv=s64",
      "userId": "16365483265676392275"
     },
     "user_tz": -300
    },
    "id": "f392d64f"
   },
   "outputs": [],
   "source": [
    "dat = data[\"data\"]"
   ]
  },
  {
   "cell_type": "code",
   "execution_count": 13,
   "id": "5ecac5de",
   "metadata": {
    "colab": {
     "base_uri": "https://localhost:8080/",
     "height": 204
    },
    "executionInfo": {
     "elapsed": 18,
     "status": "ok",
     "timestamp": 1636362506449,
     "user": {
      "displayName": "Дмитрий Данилов",
      "photoUrl": "https://lh3.googleusercontent.com/a-/AOh14GjrLTA-dX7eMrvDRjOtp6QgQL8bwrVhcFJHjwvv=s64",
      "userId": "16365483265676392275"
     },
     "user_tz": -300
    },
    "id": "5ecac5de",
    "outputId": "546f727e-5568-40a6-8145-3986a66a9955",
    "scrolled": true
   },
   "outputs": [
    {
     "data": {
      "text/html": [
       "<div>\n",
       "<style scoped>\n",
       "    .dataframe tbody tr th:only-of-type {\n",
       "        vertical-align: middle;\n",
       "    }\n",
       "\n",
       "    .dataframe tbody tr th {\n",
       "        vertical-align: top;\n",
       "    }\n",
       "\n",
       "    .dataframe thead th {\n",
       "        text-align: right;\n",
       "    }\n",
       "</style>\n",
       "<table border=\"1\" class=\"dataframe\">\n",
       "  <thead>\n",
       "    <tr style=\"text-align: right;\">\n",
       "      <th></th>\n",
       "      <th>alcohol</th>\n",
       "      <th>malic_acid</th>\n",
       "      <th>ash</th>\n",
       "      <th>alcalinity_of_ash</th>\n",
       "      <th>magnesium</th>\n",
       "      <th>total_phenols</th>\n",
       "      <th>flavanoids</th>\n",
       "      <th>nonflavanoid_phenols</th>\n",
       "      <th>proanthocyanins</th>\n",
       "      <th>color_intensity</th>\n",
       "      <th>hue</th>\n",
       "      <th>od280/od315_of_diluted_wines</th>\n",
       "      <th>proline</th>\n",
       "    </tr>\n",
       "  </thead>\n",
       "  <tbody>\n",
       "    <tr>\n",
       "      <th>0</th>\n",
       "      <td>14.23</td>\n",
       "      <td>1.71</td>\n",
       "      <td>2.43</td>\n",
       "      <td>15.6</td>\n",
       "      <td>127.0</td>\n",
       "      <td>2.80</td>\n",
       "      <td>3.06</td>\n",
       "      <td>0.28</td>\n",
       "      <td>2.29</td>\n",
       "      <td>5.64</td>\n",
       "      <td>1.04</td>\n",
       "      <td>3.92</td>\n",
       "      <td>1065.0</td>\n",
       "    </tr>\n",
       "    <tr>\n",
       "      <th>1</th>\n",
       "      <td>13.20</td>\n",
       "      <td>1.78</td>\n",
       "      <td>2.14</td>\n",
       "      <td>11.2</td>\n",
       "      <td>100.0</td>\n",
       "      <td>2.65</td>\n",
       "      <td>2.76</td>\n",
       "      <td>0.26</td>\n",
       "      <td>1.28</td>\n",
       "      <td>4.38</td>\n",
       "      <td>1.05</td>\n",
       "      <td>3.40</td>\n",
       "      <td>1050.0</td>\n",
       "    </tr>\n",
       "    <tr>\n",
       "      <th>2</th>\n",
       "      <td>13.16</td>\n",
       "      <td>2.36</td>\n",
       "      <td>2.67</td>\n",
       "      <td>18.6</td>\n",
       "      <td>101.0</td>\n",
       "      <td>2.80</td>\n",
       "      <td>3.24</td>\n",
       "      <td>0.30</td>\n",
       "      <td>2.81</td>\n",
       "      <td>5.68</td>\n",
       "      <td>1.03</td>\n",
       "      <td>3.17</td>\n",
       "      <td>1185.0</td>\n",
       "    </tr>\n",
       "    <tr>\n",
       "      <th>3</th>\n",
       "      <td>14.37</td>\n",
       "      <td>1.95</td>\n",
       "      <td>2.50</td>\n",
       "      <td>16.8</td>\n",
       "      <td>113.0</td>\n",
       "      <td>3.85</td>\n",
       "      <td>3.49</td>\n",
       "      <td>0.24</td>\n",
       "      <td>2.18</td>\n",
       "      <td>7.80</td>\n",
       "      <td>0.86</td>\n",
       "      <td>3.45</td>\n",
       "      <td>1480.0</td>\n",
       "    </tr>\n",
       "    <tr>\n",
       "      <th>4</th>\n",
       "      <td>13.24</td>\n",
       "      <td>2.59</td>\n",
       "      <td>2.87</td>\n",
       "      <td>21.0</td>\n",
       "      <td>118.0</td>\n",
       "      <td>2.80</td>\n",
       "      <td>2.69</td>\n",
       "      <td>0.39</td>\n",
       "      <td>1.82</td>\n",
       "      <td>4.32</td>\n",
       "      <td>1.04</td>\n",
       "      <td>2.93</td>\n",
       "      <td>735.0</td>\n",
       "    </tr>\n",
       "  </tbody>\n",
       "</table>\n",
       "</div>"
      ],
      "text/plain": [
       "   alcohol  malic_acid   ash  ...   hue  od280/od315_of_diluted_wines  proline\n",
       "0    14.23        1.71  2.43  ...  1.04                          3.92   1065.0\n",
       "1    13.20        1.78  2.14  ...  1.05                          3.40   1050.0\n",
       "2    13.16        2.36  2.67  ...  1.03                          3.17   1185.0\n",
       "3    14.37        1.95  2.50  ...  0.86                          3.45   1480.0\n",
       "4    13.24        2.59  2.87  ...  1.04                          2.93    735.0\n",
       "\n",
       "[5 rows x 13 columns]"
      ]
     },
     "execution_count": 13,
     "metadata": {},
     "output_type": "execute_result"
    }
   ],
   "source": [
    "X = pd.DataFrame(dat, columns=feature_names)\n",
    "\n",
    "X.head()"
   ]
  },
  {
   "cell_type": "markdown",
   "id": "963cf641",
   "metadata": {
    "id": "963cf641"
   },
   "source": [
    "#### 6).\n",
    "Выясните размер датафрейма X и установите, имеются ли в нем пропущенные значения."
   ]
  },
  {
   "cell_type": "code",
   "execution_count": 14,
   "id": "0972f388",
   "metadata": {
    "colab": {
     "base_uri": "https://localhost:8080/"
    },
    "executionInfo": {
     "elapsed": 18,
     "status": "ok",
     "timestamp": 1636362506450,
     "user": {
      "displayName": "Дмитрий Данилов",
      "photoUrl": "https://lh3.googleusercontent.com/a-/AOh14GjrLTA-dX7eMrvDRjOtp6QgQL8bwrVhcFJHjwvv=s64",
      "userId": "16365483265676392275"
     },
     "user_tz": -300
    },
    "id": "0972f388",
    "outputId": "22c437ce-6778-4abd-fa4e-a816d75a8e0b"
   },
   "outputs": [
    {
     "data": {
      "text/plain": [
       "(178, 13)"
      ]
     },
     "execution_count": 14,
     "metadata": {},
     "output_type": "execute_result"
    }
   ],
   "source": [
    "X.shape"
   ]
  },
  {
   "cell_type": "code",
   "execution_count": 15,
   "id": "8138413d",
   "metadata": {
    "colab": {
     "base_uri": "https://localhost:8080/"
    },
    "executionInfo": {
     "elapsed": 17,
     "status": "ok",
     "timestamp": 1636362506451,
     "user": {
      "displayName": "Дмитрий Данилов",
      "photoUrl": "https://lh3.googleusercontent.com/a-/AOh14GjrLTA-dX7eMrvDRjOtp6QgQL8bwrVhcFJHjwvv=s64",
      "userId": "16365483265676392275"
     },
     "user_tz": -300
    },
    "id": "8138413d",
    "outputId": "34db4cdb-cbbc-4e10-9a89-7148fb11d30d",
    "scrolled": false
   },
   "outputs": [
    {
     "name": "stdout",
     "output_type": "stream",
     "text": [
      "<class 'pandas.core.frame.DataFrame'>\n",
      "RangeIndex: 178 entries, 0 to 177\n",
      "Data columns (total 13 columns):\n",
      " #   Column                        Non-Null Count  Dtype  \n",
      "---  ------                        --------------  -----  \n",
      " 0   alcohol                       178 non-null    float64\n",
      " 1   malic_acid                    178 non-null    float64\n",
      " 2   ash                           178 non-null    float64\n",
      " 3   alcalinity_of_ash             178 non-null    float64\n",
      " 4   magnesium                     178 non-null    float64\n",
      " 5   total_phenols                 178 non-null    float64\n",
      " 6   flavanoids                    178 non-null    float64\n",
      " 7   nonflavanoid_phenols          178 non-null    float64\n",
      " 8   proanthocyanins               178 non-null    float64\n",
      " 9   color_intensity               178 non-null    float64\n",
      " 10  hue                           178 non-null    float64\n",
      " 11  od280/od315_of_diluted_wines  178 non-null    float64\n",
      " 12  proline                       178 non-null    float64\n",
      "dtypes: float64(13)\n",
      "memory usage: 18.2 KB\n"
     ]
    }
   ],
   "source": [
    "X.info()"
   ]
  },
  {
   "cell_type": "markdown",
   "id": "4ee7af0a",
   "metadata": {
    "id": "4ee7af0a"
   },
   "source": [
    "#### 7). \n",
    "Добавьте в датафрейм поле с классами вин в виде чисел, имеющих тип данных numpy.int64.\n",
    "Название поля - 'target'."
   ]
  },
  {
   "cell_type": "code",
   "execution_count": 16,
   "id": "qgwlKakpmx07",
   "metadata": {
    "executionInfo": {
     "elapsed": 16,
     "status": "ok",
     "timestamp": 1636362506452,
     "user": {
      "displayName": "Дмитрий Данилов",
      "photoUrl": "https://lh3.googleusercontent.com/a-/AOh14GjrLTA-dX7eMrvDRjOtp6QgQL8bwrVhcFJHjwvv=s64",
      "userId": "16365483265676392275"
     },
     "user_tz": -300
    },
    "id": "qgwlKakpmx07"
   },
   "outputs": [],
   "source": [
    "target = data[\"target\"]"
   ]
  },
  {
   "cell_type": "code",
   "execution_count": 17,
   "id": "9b925c0b",
   "metadata": {
    "colab": {
     "base_uri": "https://localhost:8080/"
    },
    "executionInfo": {
     "elapsed": 19,
     "status": "ok",
     "timestamp": 1636362506455,
     "user": {
      "displayName": "Дмитрий Данилов",
      "photoUrl": "https://lh3.googleusercontent.com/a-/AOh14GjrLTA-dX7eMrvDRjOtp6QgQL8bwrVhcFJHjwvv=s64",
      "userId": "16365483265676392275"
     },
     "user_tz": -300
    },
    "id": "9b925c0b",
    "outputId": "a9cb480f-6dd9-4c66-8cf6-8fa37fef8d7e"
   },
   "outputs": [
    {
     "name": "stdout",
     "output_type": "stream",
     "text": [
      "<class 'pandas.core.frame.DataFrame'>\n",
      "RangeIndex: 178 entries, 0 to 177\n",
      "Data columns (total 14 columns):\n",
      " #   Column                        Non-Null Count  Dtype  \n",
      "---  ------                        --------------  -----  \n",
      " 0   alcohol                       178 non-null    float64\n",
      " 1   malic_acid                    178 non-null    float64\n",
      " 2   ash                           178 non-null    float64\n",
      " 3   alcalinity_of_ash             178 non-null    float64\n",
      " 4   magnesium                     178 non-null    float64\n",
      " 5   total_phenols                 178 non-null    float64\n",
      " 6   flavanoids                    178 non-null    float64\n",
      " 7   nonflavanoid_phenols          178 non-null    float64\n",
      " 8   proanthocyanins               178 non-null    float64\n",
      " 9   color_intensity               178 non-null    float64\n",
      " 10  hue                           178 non-null    float64\n",
      " 11  od280/od315_of_diluted_wines  178 non-null    float64\n",
      " 12  proline                       178 non-null    float64\n",
      " 13  target                        178 non-null    int64  \n",
      "dtypes: float64(13), int64(1)\n",
      "memory usage: 19.6 KB\n"
     ]
    }
   ],
   "source": [
    "X[\"target\"] = target\n",
    "X.info()"
   ]
  },
  {
   "cell_type": "markdown",
   "id": "ec1f40d9",
   "metadata": {
    "id": "ec1f40d9"
   },
   "source": [
    "#### 8). \n",
    "Постройте матрицу корреляций для всех полей X. Дайте полученному датафрейму название\n",
    "X_corr."
   ]
  },
  {
   "cell_type": "code",
   "execution_count": 18,
   "id": "e26870dc",
   "metadata": {
    "colab": {
     "base_uri": "https://localhost:8080/",
     "height": 842
    },
    "executionInfo": {
     "elapsed": 1832,
     "status": "ok",
     "timestamp": 1636362508270,
     "user": {
      "displayName": "Дмитрий Данилов",
      "photoUrl": "https://lh3.googleusercontent.com/a-/AOh14GjrLTA-dX7eMrvDRjOtp6QgQL8bwrVhcFJHjwvv=s64",
      "userId": "16365483265676392275"
     },
     "user_tz": -300
    },
    "id": "e26870dc",
    "outputId": "9bbdc5ab-02b0-474b-dc27-c01facc8d86f"
   },
   "outputs": [
    {
     "data": {
      "image/png": "[encoded data removed]",
      "text/plain": [
       "<Figure size 1080x720 with 2 Axes>"
      ]
     },
     "metadata": {
      "needs_background": "light"
     },
     "output_type": "display_data"
    }
   ],
   "source": [
    "plt.figure(figsize=(15, 10))\n",
    "\n",
    "sns.set(font_scale=1.4)\n",
    "\n",
    "X_corr = X.corr()\n",
    "X_corr = np.round(X_corr, 2)\n",
    "X_corr[np.abs(X_corr) < 0.3] = 0\n",
    "\n",
    "sns.heatmap(X_corr, annot=True, linewidths=.5, cmap='coolwarm')\n",
    "\n",
    "plt.title('Correlation matrix')\n",
    "plt.show()"
   ]
  },
  {
   "cell_type": "markdown",
   "id": "r4BhD4LKfGCv",
   "metadata": {
    "id": "r4BhD4LKfGCv"
   },
   "source": [
    "#### 9). \n",
    "Создайте список high_corr из признаков, корреляция которых с полем target по абсолютному\n",
    "значению превышает 0.5 (причем, само поле target не должно входить в этот список)."
   ]
  },
  {
   "cell_type": "code",
   "execution_count": 19,
   "id": "g0lKqrai6C6L",
   "metadata": {
    "colab": {
     "base_uri": "https://localhost:8080/"
    },
    "executionInfo": {
     "elapsed": 16,
     "status": "ok",
     "timestamp": 1636362508271,
     "user": {
      "displayName": "Дмитрий Данилов",
      "photoUrl": "https://lh3.googleusercontent.com/a-/AOh14GjrLTA-dX7eMrvDRjOtp6QgQL8bwrVhcFJHjwvv=s64",
      "userId": "16365483265676392275"
     },
     "user_tz": -300
    },
    "id": "g0lKqrai6C6L",
    "outputId": "ae8a0644-48ec-445d-f545-0b0e9230ade6"
   },
   "outputs": [
    {
     "data": {
      "text/plain": [
       "['alcalinity_of_ash',\n",
       " 'total_phenols',\n",
       " 'flavanoids',\n",
       " 'hue',\n",
       " 'od280/od315_of_diluted_wines',\n",
       " 'proline']"
      ]
     },
     "execution_count": 19,
     "metadata": {},
     "output_type": "execute_result"
    }
   ],
   "source": [
    "high_corr = list(X_corr[abs(X_corr[\"target\"]) > 0.5].index[:-1])\n",
    "high_corr"
   ]
  },
  {
   "cell_type": "markdown",
   "id": "tBQZCaEAfq8t",
   "metadata": {
    "id": "tBQZCaEAfq8t"
   },
   "source": [
    "#### 10). \n",
    "Удалите из датафрейма X поле с целевой переменной. Для всех признаков, названия которых\n",
    "содержатся в списке high_corr, вычислите квадрат их значений и добавьте в датафрейм X\n",
    "соответствующие поля с суффиксом '_2', добавленного к первоначальному названию признака.\n",
    "Итоговый датафрейм должен содержать все поля, которые, были в нем изначально, а также поля с\n",
    "признаками из списка high_corr, возведенными в квадрат. Выведите описание полей датафрейма X с\n",
    "помощью метода describe."
   ]
  },
  {
   "cell_type": "code",
   "execution_count": 20,
   "id": "r5qjgkgw6b-z",
   "metadata": {
    "colab": {
     "base_uri": "https://localhost:8080/"
    },
    "executionInfo": {
     "elapsed": 14,
     "status": "ok",
     "timestamp": 1636362508271,
     "user": {
      "displayName": "Дмитрий Данилов",
      "photoUrl": "https://lh3.googleusercontent.com/a-/AOh14GjrLTA-dX7eMrvDRjOtp6QgQL8bwrVhcFJHjwvv=s64",
      "userId": "16365483265676392275"
     },
     "user_tz": -300
    },
    "id": "r5qjgkgw6b-z",
    "outputId": "f66ff34b-d445-4592-8d3c-45fbbeb3ed38"
   },
   "outputs": [
    {
     "name": "stdout",
     "output_type": "stream",
     "text": [
      "<class 'pandas.core.frame.DataFrame'>\n",
      "RangeIndex: 178 entries, 0 to 177\n",
      "Data columns (total 13 columns):\n",
      " #   Column                        Non-Null Count  Dtype  \n",
      "---  ------                        --------------  -----  \n",
      " 0   alcohol                       178 non-null    float64\n",
      " 1   malic_acid                    178 non-null    float64\n",
      " 2   ash                           178 non-null    float64\n",
      " 3   alcalinity_of_ash             178 non-null    float64\n",
      " 4   magnesium                     178 non-null    float64\n",
      " 5   total_phenols                 178 non-null    float64\n",
      " 6   flavanoids                    178 non-null    float64\n",
      " 7   nonflavanoid_phenols          178 non-null    float64\n",
      " 8   proanthocyanins               178 non-null    float64\n",
      " 9   color_intensity               178 non-null    float64\n",
      " 10  hue                           178 non-null    float64\n",
      " 11  od280/od315_of_diluted_wines  178 non-null    float64\n",
      " 12  proline                       178 non-null    float64\n",
      "dtypes: float64(13)\n",
      "memory usage: 18.2 KB\n"
     ]
    }
   ],
   "source": [
    "X.drop(\"target\", axis=1, inplace=True)\n",
    "X.info()"
   ]
  },
  {
   "cell_type": "code",
   "execution_count": 21,
   "id": "zsqXkKpdVd_T",
   "metadata": {
    "executionInfo": {
     "elapsed": 13,
     "status": "ok",
     "timestamp": 1636362508272,
     "user": {
      "displayName": "Дмитрий Данилов",
      "photoUrl": "https://lh3.googleusercontent.com/a-/AOh14GjrLTA-dX7eMrvDRjOtp6QgQL8bwrVhcFJHjwvv=s64",
      "userId": "16365483265676392275"
     },
     "user_tz": -300
    },
    "id": "zsqXkKpdVd_T"
   },
   "outputs": [],
   "source": [
    "X_hc_2 = X[high_corr] ** 2"
   ]
  },
  {
   "cell_type": "code",
   "execution_count": 22,
   "id": "Nno9xwdXdc4y",
   "metadata": {
    "executionInfo": {
     "elapsed": 14,
     "status": "ok",
     "timestamp": 1636362508273,
     "user": {
      "displayName": "Дмитрий Данилов",
      "photoUrl": "https://lh3.googleusercontent.com/a-/AOh14GjrLTA-dX7eMrvDRjOtp6QgQL8bwrVhcFJHjwvv=s64",
      "userId": "16365483265676392275"
     },
     "user_tz": -300
    },
    "id": "Nno9xwdXdc4y"
   },
   "outputs": [],
   "source": [
    "X_hc_2.columns = (i + '_2' for i in X_hc_2.columns)"
   ]
  },
  {
   "cell_type": "code",
   "execution_count": 23,
   "id": "6WYGiFuZemwm",
   "metadata": {
    "executionInfo": {
     "elapsed": 13,
     "status": "ok",
     "timestamp": 1636362508273,
     "user": {
      "displayName": "Дмитрий Данилов",
      "photoUrl": "https://lh3.googleusercontent.com/a-/AOh14GjrLTA-dX7eMrvDRjOtp6QgQL8bwrVhcFJHjwvv=s64",
      "userId": "16365483265676392275"
     },
     "user_tz": -300
    },
    "id": "6WYGiFuZemwm"
   },
   "outputs": [],
   "source": [
    "X = pd.concat([X, X_hc_2], axis=1)"
   ]
  },
  {
   "cell_type": "code",
   "execution_count": 24,
   "id": "kycaxbKSuv92",
   "metadata": {
    "colab": {
     "base_uri": "https://localhost:8080/"
    },
    "executionInfo": {
     "elapsed": 14,
     "status": "ok",
     "timestamp": 1636362508274,
     "user": {
      "displayName": "Дмитрий Данилов",
      "photoUrl": "https://lh3.googleusercontent.com/a-/AOh14GjrLTA-dX7eMrvDRjOtp6QgQL8bwrVhcFJHjwvv=s64",
      "userId": "16365483265676392275"
     },
     "user_tz": -300
    },
    "id": "kycaxbKSuv92",
    "outputId": "89bd587e-8963-4d58-ed39-4fceb810c6bf"
   },
   "outputs": [
    {
     "name": "stdout",
     "output_type": "stream",
     "text": [
      "<class 'pandas.core.frame.DataFrame'>\n",
      "RangeIndex: 178 entries, 0 to 177\n",
      "Data columns (total 19 columns):\n",
      " #   Column                          Non-Null Count  Dtype  \n",
      "---  ------                          --------------  -----  \n",
      " 0   alcohol                         178 non-null    float64\n",
      " 1   malic_acid                      178 non-null    float64\n",
      " 2   ash                             178 non-null    float64\n",
      " 3   alcalinity_of_ash               178 non-null    float64\n",
      " 4   magnesium                       178 non-null    float64\n",
      " 5   total_phenols                   178 non-null    float64\n",
      " 6   flavanoids                      178 non-null    float64\n",
      " 7   nonflavanoid_phenols            178 non-null    float64\n",
      " 8   proanthocyanins                 178 non-null    float64\n",
      " 9   color_intensity                 178 non-null    float64\n",
      " 10  hue                             178 non-null    float64\n",
      " 11  od280/od315_of_diluted_wines    178 non-null    float64\n",
      " 12  proline                         178 non-null    float64\n",
      " 13  alcalinity_of_ash_2             178 non-null    float64\n",
      " 14  total_phenols_2                 178 non-null    float64\n",
      " 15  flavanoids_2                    178 non-null    float64\n",
      " 16  hue_2                           178 non-null    float64\n",
      " 17  od280/od315_of_diluted_wines_2  178 non-null    float64\n",
      " 18  proline_2                       178 non-null    float64\n",
      "dtypes: float64(19)\n",
      "memory usage: 26.5 KB\n"
     ]
    }
   ],
   "source": [
    "X.info()"
   ]
  },
  {
   "cell_type": "code",
   "execution_count": 25,
   "id": "I0RfcHvXjT_M",
   "metadata": {
    "colab": {
     "base_uri": "https://localhost:8080/",
     "height": 317
    },
    "executionInfo": {
     "elapsed": 13,
     "status": "ok",
     "timestamp": 1636362508275,
     "user": {
      "displayName": "Дмитрий Данилов",
      "photoUrl": "https://lh3.googleusercontent.com/a-/AOh14GjrLTA-dX7eMrvDRjOtp6QgQL8bwrVhcFJHjwvv=s64",
      "userId": "16365483265676392275"
     },
     "user_tz": -300
    },
    "id": "I0RfcHvXjT_M",
    "outputId": "26455b6a-ab70-41d2-9519-e6dce9053c2e"
   },
   "outputs": [
    {
     "data": {
      "text/html": [
       "<div>\n",
       "<style scoped>\n",
       "    .dataframe tbody tr th:only-of-type {\n",
       "        vertical-align: middle;\n",
       "    }\n",
       "\n",
       "    .dataframe tbody tr th {\n",
       "        vertical-align: top;\n",
       "    }\n",
       "\n",
       "    .dataframe thead th {\n",
       "        text-align: right;\n",
       "    }\n",
       "</style>\n",
       "<table border=\"1\" class=\"dataframe\">\n",
       "  <thead>\n",
       "    <tr style=\"text-align: right;\">\n",
       "      <th></th>\n",
       "      <th>alcohol</th>\n",
       "      <th>malic_acid</th>\n",
       "      <th>ash</th>\n",
       "      <th>alcalinity_of_ash</th>\n",
       "      <th>magnesium</th>\n",
       "      <th>total_phenols</th>\n",
       "      <th>flavanoids</th>\n",
       "      <th>nonflavanoid_phenols</th>\n",
       "      <th>proanthocyanins</th>\n",
       "      <th>color_intensity</th>\n",
       "      <th>hue</th>\n",
       "      <th>od280/od315_of_diluted_wines</th>\n",
       "      <th>proline</th>\n",
       "      <th>alcalinity_of_ash_2</th>\n",
       "      <th>total_phenols_2</th>\n",
       "      <th>flavanoids_2</th>\n",
       "      <th>hue_2</th>\n",
       "      <th>od280/od315_of_diluted_wines_2</th>\n",
       "      <th>proline_2</th>\n",
       "    </tr>\n",
       "  </thead>\n",
       "  <tbody>\n",
       "    <tr>\n",
       "      <th>count</th>\n",
       "      <td>178.000000</td>\n",
       "      <td>178.000000</td>\n",
       "      <td>178.000000</td>\n",
       "      <td>178.000000</td>\n",
       "      <td>178.000000</td>\n",
       "      <td>178.000000</td>\n",
       "      <td>178.000000</td>\n",
       "      <td>178.000000</td>\n",
       "      <td>178.000000</td>\n",
       "      <td>178.000000</td>\n",
       "      <td>178.000000</td>\n",
       "      <td>178.000000</td>\n",
       "      <td>178.000000</td>\n",
       "      <td>178.000000</td>\n",
       "      <td>178.000000</td>\n",
       "      <td>178.000000</td>\n",
       "      <td>178.000000</td>\n",
       "      <td>178.000000</td>\n",
       "      <td>1.780000e+02</td>\n",
       "    </tr>\n",
       "    <tr>\n",
       "      <th>mean</th>\n",
       "      <td>13.000618</td>\n",
       "      <td>2.336348</td>\n",
       "      <td>2.366517</td>\n",
       "      <td>19.494944</td>\n",
       "      <td>99.741573</td>\n",
       "      <td>2.295112</td>\n",
       "      <td>2.029270</td>\n",
       "      <td>0.361854</td>\n",
       "      <td>1.590899</td>\n",
       "      <td>5.058090</td>\n",
       "      <td>0.957449</td>\n",
       "      <td>2.611685</td>\n",
       "      <td>746.893258</td>\n",
       "      <td>391.142865</td>\n",
       "      <td>5.657030</td>\n",
       "      <td>5.110049</td>\n",
       "      <td>0.968661</td>\n",
       "      <td>7.322155</td>\n",
       "      <td>6.564591e+05</td>\n",
       "    </tr>\n",
       "    <tr>\n",
       "      <th>std</th>\n",
       "      <td>0.811827</td>\n",
       "      <td>1.117146</td>\n",
       "      <td>0.274344</td>\n",
       "      <td>3.339564</td>\n",
       "      <td>14.282484</td>\n",
       "      <td>0.625851</td>\n",
       "      <td>0.998859</td>\n",
       "      <td>0.124453</td>\n",
       "      <td>0.572359</td>\n",
       "      <td>2.318286</td>\n",
       "      <td>0.228572</td>\n",
       "      <td>0.709990</td>\n",
       "      <td>314.907474</td>\n",
       "      <td>133.671775</td>\n",
       "      <td>2.936294</td>\n",
       "      <td>4.211441</td>\n",
       "      <td>0.443798</td>\n",
       "      <td>3.584316</td>\n",
       "      <td>5.558591e+05</td>\n",
       "    </tr>\n",
       "    <tr>\n",
       "      <th>min</th>\n",
       "      <td>11.030000</td>\n",
       "      <td>0.740000</td>\n",
       "      <td>1.360000</td>\n",
       "      <td>10.600000</td>\n",
       "      <td>70.000000</td>\n",
       "      <td>0.980000</td>\n",
       "      <td>0.340000</td>\n",
       "      <td>0.130000</td>\n",
       "      <td>0.410000</td>\n",
       "      <td>1.280000</td>\n",
       "      <td>0.480000</td>\n",
       "      <td>1.270000</td>\n",
       "      <td>278.000000</td>\n",
       "      <td>112.360000</td>\n",
       "      <td>0.960400</td>\n",
       "      <td>0.115600</td>\n",
       "      <td>0.230400</td>\n",
       "      <td>1.612900</td>\n",
       "      <td>7.728400e+04</td>\n",
       "    </tr>\n",
       "    <tr>\n",
       "      <th>25%</th>\n",
       "      <td>12.362500</td>\n",
       "      <td>1.602500</td>\n",
       "      <td>2.210000</td>\n",
       "      <td>17.200000</td>\n",
       "      <td>88.000000</td>\n",
       "      <td>1.742500</td>\n",
       "      <td>1.205000</td>\n",
       "      <td>0.270000</td>\n",
       "      <td>1.250000</td>\n",
       "      <td>3.220000</td>\n",
       "      <td>0.782500</td>\n",
       "      <td>1.937500</td>\n",
       "      <td>500.500000</td>\n",
       "      <td>295.840000</td>\n",
       "      <td>3.036325</td>\n",
       "      <td>1.452100</td>\n",
       "      <td>0.612325</td>\n",
       "      <td>3.754075</td>\n",
       "      <td>2.505010e+05</td>\n",
       "    </tr>\n",
       "    <tr>\n",
       "      <th>50%</th>\n",
       "      <td>13.050000</td>\n",
       "      <td>1.865000</td>\n",
       "      <td>2.360000</td>\n",
       "      <td>19.500000</td>\n",
       "      <td>98.000000</td>\n",
       "      <td>2.355000</td>\n",
       "      <td>2.135000</td>\n",
       "      <td>0.340000</td>\n",
       "      <td>1.555000</td>\n",
       "      <td>4.690000</td>\n",
       "      <td>0.965000</td>\n",
       "      <td>2.780000</td>\n",
       "      <td>673.500000</td>\n",
       "      <td>380.250000</td>\n",
       "      <td>5.546050</td>\n",
       "      <td>4.558250</td>\n",
       "      <td>0.931250</td>\n",
       "      <td>7.728400</td>\n",
       "      <td>4.536045e+05</td>\n",
       "    </tr>\n",
       "    <tr>\n",
       "      <th>75%</th>\n",
       "      <td>13.677500</td>\n",
       "      <td>3.082500</td>\n",
       "      <td>2.557500</td>\n",
       "      <td>21.500000</td>\n",
       "      <td>107.000000</td>\n",
       "      <td>2.800000</td>\n",
       "      <td>2.875000</td>\n",
       "      <td>0.437500</td>\n",
       "      <td>1.950000</td>\n",
       "      <td>6.200000</td>\n",
       "      <td>1.120000</td>\n",
       "      <td>3.170000</td>\n",
       "      <td>985.000000</td>\n",
       "      <td>462.250000</td>\n",
       "      <td>7.840000</td>\n",
       "      <td>8.265700</td>\n",
       "      <td>1.254400</td>\n",
       "      <td>10.048900</td>\n",
       "      <td>9.702250e+05</td>\n",
       "    </tr>\n",
       "    <tr>\n",
       "      <th>max</th>\n",
       "      <td>14.830000</td>\n",
       "      <td>5.800000</td>\n",
       "      <td>3.230000</td>\n",
       "      <td>30.000000</td>\n",
       "      <td>162.000000</td>\n",
       "      <td>3.880000</td>\n",
       "      <td>5.080000</td>\n",
       "      <td>0.660000</td>\n",
       "      <td>3.580000</td>\n",
       "      <td>13.000000</td>\n",
       "      <td>1.710000</td>\n",
       "      <td>4.000000</td>\n",
       "      <td>1680.000000</td>\n",
       "      <td>900.000000</td>\n",
       "      <td>15.054400</td>\n",
       "      <td>25.806400</td>\n",
       "      <td>2.924100</td>\n",
       "      <td>16.000000</td>\n",
       "      <td>2.822400e+06</td>\n",
       "    </tr>\n",
       "  </tbody>\n",
       "</table>\n",
       "</div>"
      ],
      "text/plain": [
       "          alcohol  malic_acid  ...  od280/od315_of_diluted_wines_2     proline_2\n",
       "count  178.000000  178.000000  ...                      178.000000  1.780000e+02\n",
       "mean    13.000618    2.336348  ...                        7.322155  6.564591e+05\n",
       "std      0.811827    1.117146  ...                        3.584316  5.558591e+05\n",
       "min     11.030000    0.740000  ...                        1.612900  7.728400e+04\n",
       "25%     12.362500    1.602500  ...                        3.754075  2.505010e+05\n",
       "50%     13.050000    1.865000  ...                        7.728400  4.536045e+05\n",
       "75%     13.677500    3.082500  ...                       10.048900  9.702250e+05\n",
       "max     14.830000    5.800000  ...                       16.000000  2.822400e+06\n",
       "\n",
       "[8 rows x 19 columns]"
      ]
     },
     "execution_count": 25,
     "metadata": {},
     "output_type": "execute_result"
    }
   ],
   "source": [
    "X.describe()"
   ]
  },
  {
   "cell_type": "code",
   "execution_count": 25,
   "id": "0B6Z5FHJjWgE",
   "metadata": {
    "executionInfo": {
     "elapsed": 13,
     "status": "ok",
     "timestamp": 1636362508276,
     "user": {
      "displayName": "Дмитрий Данилов",
      "photoUrl": "https://lh3.googleusercontent.com/a-/AOh14GjrLTA-dX7eMrvDRjOtp6QgQL8bwrVhcFJHjwvv=s64",
      "userId": "16365483265676392275"
     },
     "user_tz": -300
    },
    "id": "0B6Z5FHJjWgE"
   },
   "outputs": [],
   "source": []
  }
 ],
 "metadata": {
  "colab": {
   "collapsed_sections": [],
   "name": "hw_6_additional.ipynb",
   "provenance": []
  },
  "kernelspec": {
   "display_name": "Python 3 (ipykernel)",
   "language": "python",
   "name": "python3"
  },
  "language_info": {
   "codemirror_mode": {
    "name": "ipython",
    "version": 3
   },
   "file_extension": ".py",
   "mimetype": "text/x-python",
   "name": "python",
   "nbconvert_exporter": "python",
   "pygments_lexer": "ipython3",
   "version": "3.9.4"
  }
 },
 "nbformat": 4,
 "nbformat_minor": 5
}
